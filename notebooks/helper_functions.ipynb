{
 "cells": [
  {
   "cell_type": "code",
   "execution_count": 19,
   "metadata": {},
   "outputs": [],
   "source": [
    "import cv2\n",
    "import numpy as np\n",
    "import matplotlib.pyplot as plt\n",
    "\n",
    "img1 = cv2.imread('../data/GEarth/left.png', cv2.IMREAD_GRAYSCALE)\n",
    "img2 = cv2.imread('../data/GEarth/front_left.png', cv2.IMREAD_GRAYSCALE)\n",
    "img3 = cv2.imread('../data/GEarth/front.png', cv2.IMREAD_GRAYSCALE)\n",
    "\n",
    "images = [img1, img2, img3]\n"
   ]
  },
  {
   "cell_type": "code",
   "execution_count": 20,
   "metadata": {},
   "outputs": [
    {
     "name": "stdout",
     "output_type": "stream",
     "text": [
      "Images stitched successfully.\n"
     ]
    },
    {
     "data": {
      "text/plain": [
       "True"
      ]
     },
     "execution_count": 20,
     "metadata": {},
     "output_type": "execute_result"
    }
   ],
   "source": [
    "def stitch_images(images):\n",
    "    # Check and convert images\n",
    "    processed_images = []\n",
    "    for img in images:\n",
    "        if img is None:\n",
    "            print(\"One of the input images is None.\")\n",
    "            return None\n",
    "        \n",
    "        # Ensure the image is in BGR format\n",
    "        if len(img.shape) == 2:  # Image is grayscale\n",
    "            img = cv2.cvtColor(img, cv2.COLOR_GRAY2BGR)\n",
    "        elif img.shape[2] == 4:  # Image is RGBA\n",
    "            img = cv2.cvtColor(img, cv2.COLOR_RGBA2BGR)\n",
    "        \n",
    "        processed_images.append(img)\n",
    "\n",
    "    # Create a Stitcher instance\n",
    "    stitcher = cv2.Stitcher.create(cv2.Stitcher_PANORAMA)\n",
    "    \n",
    "    # Perform the stitching process\n",
    "    status, stitched_image = stitcher.stitch(processed_images)\n",
    "    \n",
    "    if status == cv2.Stitcher_OK:\n",
    "        print(\"Images stitched successfully.\")\n",
    "        # Display the stitched image\n",
    "        return stitched_image\n",
    "    \n",
    "res_stitch = stitch_images(images)\n",
    "cv2.imwrite('../results/pano.png', res_stitch)"
   ]
  },
  {
   "cell_type": "code",
   "execution_count": 21,
   "metadata": {},
   "outputs": [],
   "source": [
    "points2 = []\n",
    "\n",
    "def click_event(event, x, y, flags, param):\n",
    "    if event == cv2.EVENT_LBUTTONDOWN:\n",
    "        # Append the new point (x, y)\n",
    "        points2.append((x, y))\n",
    "        \n",
    "        # Draw a small circle at the click point\n",
    "        cv2.circle(img, (x, y), 3, (255, 255, 255), -1)\n",
    "        \n",
    "        # Draw the polygon if there are at least two points\n",
    "        if len(points2) >= 2:\n",
    "            cv2.polylines(img, [np.array(points2)], isClosed=False, color=(255, 255, 255), thickness=2)\n",
    "        \n",
    "        cv2.imshow('image', img)\n",
    "\n",
    "# Load an image\n",
    "img = res_stitch\n",
    "if img is None:\n",
    "    print(\"Error: Image not found.\")\n",
    "else:\n",
    "    # Create a window\n",
    "    cv2.namedWindow('image')\n",
    "    cv2.setMouseCallback('image', click_event)\n",
    "\n",
    "    # Display the image\n",
    "    cv2.imshow('image', img)\n",
    "\n",
    "    # Wait until any key is pressed\n",
    "    cv2.waitKey(0)\n",
    "    cv2.destroyAllWindows()"
   ]
  },
  {
   "cell_type": "code",
   "execution_count": 22,
   "metadata": {},
   "outputs": [
    {
     "data": {
      "text/plain": [
       "True"
      ]
     },
     "execution_count": 22,
     "metadata": {},
     "output_type": "execute_result"
    }
   ],
   "source": [
    "height, width = res_stitch.shape[:2]\n",
    "\n",
    "src_pts1 = np.array(points2, dtype=np.float32)\n",
    "dst_pts = np.array([[0, 0], [0, height], [width, height], [width, 0]], dtype=np.float32)\n",
    "\n",
    "M1 = cv2.getPerspectiveTransform(src_pts1, dst_pts)\n",
    "warped_image1 = cv2.warpPerspective(res_stitch, M1, (width, height))\n",
    "\n",
    "cv2.imwrite('../results/warped_pano.png', warped_image1)"
   ]
  },
  {
   "cell_type": "code",
   "execution_count": null,
   "metadata": {},
   "outputs": [],
   "source": []
  }
 ],
 "metadata": {
  "kernelspec": {
   "display_name": "Python 3",
   "language": "python",
   "name": "python3"
  },
  "language_info": {
   "codemirror_mode": {
    "name": "ipython",
    "version": 3
   },
   "file_extension": ".py",
   "mimetype": "text/x-python",
   "name": "python",
   "nbconvert_exporter": "python",
   "pygments_lexer": "ipython3",
   "version": "3.10.6"
  }
 },
 "nbformat": 4,
 "nbformat_minor": 2
}
