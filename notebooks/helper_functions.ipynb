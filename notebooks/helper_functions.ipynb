{
 "cells": [
  {
   "cell_type": "code",
   "execution_count": 3,
   "metadata": {},
   "outputs": [],
   "source": [
    "import cv2\n",
    "import numpy as np\n",
    "import matplotlib.pyplot as plt\n",
    "\n",
    "img1 = cv2.imread('../data/GEarth/left.png', cv2.IMREAD_GRAYSCALE)\n",
    "img2 = cv2.imread('../data/GEarth/front_left.png', cv2.IMREAD_GRAYSCALE)\n",
    "img3 = cv2.imread('../data/GEarth/front.png', cv2.IMREAD_GRAYSCALE)\n",
    "\n",
    "images = [img1, img2, img3]\n"
   ]
  },
  {
   "cell_type": "code",
   "execution_count": 6,
   "metadata": {},
   "outputs": [
    {
     "name": "stdout",
     "output_type": "stream",
     "text": [
      "Images stitched successfully.\n"
     ]
    },
    {
     "data": {
      "text/plain": [
       "True"
      ]
     },
     "execution_count": 6,
     "metadata": {},
     "output_type": "execute_result"
    }
   ],
   "source": [
    "def stitch_images(images):\n",
    "    # Check and convert images\n",
    "    processed_images = []\n",
    "    for img in images:\n",
    "        if img is None:\n",
    "            print(\"One of the input images is None.\")\n",
    "            return None\n",
    "        \n",
    "        # Ensure the image is in BGR format\n",
    "        if len(img.shape) == 2:  # Image is grayscale\n",
    "            img = cv2.cvtColor(img, cv2.COLOR_GRAY2BGR)\n",
    "        elif img.shape[2] == 4:  # Image is RGBA\n",
    "            img = cv2.cvtColor(img, cv2.COLOR_RGBA2BGR)\n",
    "        \n",
    "        processed_images.append(img)\n",
    "\n",
    "    # Create a Stitcher instance\n",
    "    stitcher = cv2.Stitcher.create(cv2.Stitcher_PANORAMA)\n",
    "    \n",
    "    # Perform the stitching process\n",
    "    status, stitched_image = stitcher.stitch(processed_images)\n",
    "    \n",
    "    if status == cv2.Stitcher_OK:\n",
    "        print(\"Images stitched successfully.\")\n",
    "        # Display the stitched image\n",
    "        return stitched_image\n",
    "    \n",
    "res_stitch = stitch_images(images)\n",
    "cv2.imwrite('../results/pano.png', res_stitch)"
   ]
  },
  {
   "cell_type": "code",
   "execution_count": null,
   "metadata": {},
   "outputs": [],
   "source": []
  }
 ],
 "metadata": {
  "kernelspec": {
   "display_name": "Python 3",
   "language": "python",
   "name": "python3"
  },
  "language_info": {
   "codemirror_mode": {
    "name": "ipython",
    "version": 3
   },
   "file_extension": ".py",
   "mimetype": "text/x-python",
   "name": "python",
   "nbconvert_exporter": "python",
   "pygments_lexer": "ipython3",
   "version": "3.10.6"
  }
 },
 "nbformat": 4,
 "nbformat_minor": 2
}
